{
 "cells": [
  {
   "cell_type": "code",
   "execution_count": 1,
   "id": "01c522b9",
   "metadata": {},
   "outputs": [],
   "source": [
    "from keras.datasets import mnist"
   ]
  },
  {
   "cell_type": "code",
   "execution_count": 2,
   "id": "2f177c83",
   "metadata": {},
   "outputs": [
    {
     "name": "stdout",
     "output_type": "stream",
     "text": [
      "Downloading data from https://storage.googleapis.com/tensorflow/tf-keras-datasets/mnist.npz\n",
      "11490434/11490434 [==============================] - 1s 0us/step\n"
     ]
    }
   ],
   "source": [
    "(X_train, y_train), (X_test, y_test) = mnist.load_data()"
   ]
  },
  {
   "cell_type": "code",
   "execution_count": 3,
   "id": "f09f1702",
   "metadata": {},
   "outputs": [],
   "source": [
    "import matplotlib.pyplot as plt"
   ]
  },
  {
   "cell_type": "code",
   "execution_count": 14,
   "id": "15714879",
   "metadata": {},
   "outputs": [
    {
     "data": {
      "text/plain": [
       "<matplotlib.image.AxesImage at 0x25155147cd0>"
      ]
     },
     "execution_count": 14,
     "metadata": {},
     "output_type": "execute_result"
    },
    {
     "data": {
      "image/png": "[encoded data removed]",
      "text/plain": [
       "<Figure size 432x288 with 1 Axes>"
      ]
     },
     "metadata": {
      "needs_background": "light"
     },
     "output_type": "display_data"
    }
   ],
   "source": [
    "plt.imshow(X_train[1])"
   ]
  },
  {
   "cell_type": "code",
   "execution_count": 15,
   "id": "ca38d4bc",
   "metadata": {},
   "outputs": [
    {
     "data": {
      "text/plain": [
       "(28, 28, 1)"
      ]
     },
     "execution_count": 15,
     "metadata": {},
     "output_type": "execute_result"
    }
   ],
   "source": [
    "X_train[1].shape"
   ]
  },
  {
   "cell_type": "code",
   "execution_count": 10,
   "id": "2b3dddc4",
   "metadata": {},
   "outputs": [],
   "source": [
    "X_train = X_train.reshape(60000,28,28,1)\n",
    "X_test = X_test.reshape(10000,28,28,1)\n"
   ]
  },
  {
   "cell_type": "code",
   "execution_count": 11,
   "id": "9093bd51",
   "metadata": {},
   "outputs": [],
   "source": [
    "from keras.utils import to_categorical"
   ]
  },
  {
   "cell_type": "code",
   "execution_count": 12,
   "id": "a22c73c6",
   "metadata": {},
   "outputs": [],
   "source": [
    "y_train = to_categorical(y_train)\n",
    "y_test = to_categorical(y_test)\n"
   ]
  },
  {
   "cell_type": "code",
   "execution_count": 16,
   "id": "15c66ab7",
   "metadata": {},
   "outputs": [
    {
     "data": {
      "text/plain": [
       "array([1., 0., 0., 0., 0., 0., 0., 0., 0., 0.], dtype=float32)"
      ]
     },
     "execution_count": 16,
     "metadata": {},
     "output_type": "execute_result"
    }
   ],
   "source": [
    "y_train[1]"
   ]
  },
  {
   "cell_type": "code",
   "execution_count": 18,
   "id": "45580b45",
   "metadata": {},
   "outputs": [],
   "source": [
    "from keras.models import Sequential"
   ]
  },
  {
   "cell_type": "code",
   "execution_count": 19,
   "id": "7d4157be",
   "metadata": {},
   "outputs": [],
   "source": [
    "from keras.layers import Dense, Conv2D, Flatten"
   ]
  },
  {
   "cell_type": "code",
   "execution_count": 20,
   "id": "e4422e78",
   "metadata": {},
   "outputs": [],
   "source": [
    "model = Sequential()"
   ]
  },
  {
   "cell_type": "code",
   "execution_count": 21,
   "id": "0f7eeff4",
   "metadata": {},
   "outputs": [],
   "source": [
    "model.add(Conv2D(64, kernel_size = 3, activation = 'relu', input_shape = (28,28,1)))"
   ]
  },
  {
   "cell_type": "code",
   "execution_count": 25,
   "id": "e1a5b484",
   "metadata": {},
   "outputs": [],
   "source": [
    "model.add(Conv2D(32, kernel_size=3, activation= 'relu'))\n",
    "model.add(Flatten())\n",
    "model.add(Dense(10, activation= 'softmax'))"
   ]
  },
  {
   "cell_type": "code",
   "execution_count": 26,
   "id": "e0ef613c",
   "metadata": {},
   "outputs": [],
   "source": [
    "model.compile(optimizer='adam', loss='categorical_crossentropy', metrics=['accuracy'])"
   ]
  },
  {
   "cell_type": "code",
   "execution_count": 27,
   "id": "d2023f42",
   "metadata": {},
   "outputs": [
    {
     "name": "stdout",
     "output_type": "stream",
     "text": [
      "Epoch 1/3\n",
      "1875/1875 [==============================] - 67s 36ms/step - loss: 0.2156 - accuracy: 0.9522 - val_loss: 0.0948 - val_accuracy: 0.9707\n",
      "Epoch 2/3\n",
      "1875/1875 [==============================] - 70s 37ms/step - loss: 0.0713 - accuracy: 0.9782 - val_loss: 0.0817 - val_accuracy: 0.9762\n",
      "Epoch 3/3\n",
      "1875/1875 [==============================] - 70s 37ms/step - loss: 0.0496 - accuracy: 0.9840 - val_loss: 0.0866 - val_accuracy: 0.9753\n"
     ]
    },
    {
     "data": {
      "text/plain": [
       "<keras.callbacks.History at 0x2515ca675e0>"
      ]
     },
     "execution_count": 27,
     "metadata": {},
     "output_type": "execute_result"
    }
   ],
   "source": [
    "model.fit(X_train, y_train, validation_data=(X_test, y_test), epochs=3)"
   ]
  },
  {
   "cell_type": "code",
   "execution_count": 28,
   "id": "860e3c8e",
   "metadata": {},
   "outputs": [
    {
     "name": "stdout",
     "output_type": "stream",
     "text": [
      "1/1 [==============================] - 0s 83ms/step\n"
     ]
    },
    {
     "data": {
      "text/plain": [
       "array([[2.13388578e-08, 1.63713390e-12, 3.35993445e-06, 1.75131549e-06,\n",
       "        5.30346669e-11, 4.17584196e-12, 2.58980171e-14, 9.99993205e-01,\n",
       "        1.73145998e-10, 1.67249937e-06],\n",
       "       [5.07910499e-07, 1.41960641e-07, 9.99987960e-01, 2.06216804e-08,\n",
       "        3.34429651e-10, 5.18127659e-11, 1.02392687e-05, 3.81405602e-11,\n",
       "        1.16601655e-06, 6.17931203e-14],\n",
       "       [1.29540396e-07, 9.99215245e-01, 1.00840471e-05, 2.86851769e-08,\n",
       "        5.55557745e-06, 2.40290433e-06, 1.14303184e-07, 1.53782850e-07,\n",
       "        7.66229001e-04, 7.64183739e-09],\n",
       "       [9.99999881e-01, 1.56191287e-15, 4.93267791e-08, 1.18309147e-11,\n",
       "        1.08034467e-11, 5.80247786e-12, 6.44973763e-09, 1.20021059e-11,\n",
       "        1.06918530e-10, 1.68052637e-07],\n",
       "       [1.48480233e-08, 8.36089824e-13, 1.92629046e-09, 2.59109964e-12,\n",
       "        9.99999166e-01, 5.29342264e-11, 1.32936208e-12, 7.38222261e-10,\n",
       "        4.45173100e-11, 8.70826568e-07],\n",
       "       [3.78170171e-07, 9.97620881e-01, 1.87108762e-05, 2.98140748e-07,\n",
       "        2.36309843e-05, 7.49831663e-09, 3.34846284e-09, 1.44886526e-05,\n",
       "        2.32152082e-03, 1.09837160e-07],\n",
       "       [3.85732163e-13, 1.07956866e-05, 1.49491322e-10, 9.77273384e-12,\n",
       "        9.99321461e-01, 3.40649603e-06, 1.74069006e-11, 2.74379026e-08,\n",
       "        6.62981183e-04, 1.42093029e-06],\n",
       "       [8.43061294e-15, 1.68306569e-09, 1.36645224e-06, 1.22127275e-07,\n",
       "        1.40964141e-04, 1.09868961e-06, 2.17716720e-10, 3.42801805e-08,\n",
       "        2.03690138e-06, 9.99854326e-01],\n",
       "       [2.22356203e-10, 1.22999444e-15, 3.61623600e-12, 8.41215986e-11,\n",
       "        2.27754800e-13, 9.97414470e-01, 8.70025018e-04, 2.27630482e-14,\n",
       "        1.71551877e-03, 5.37364109e-09],\n",
       "       [7.45938067e-09, 2.57602479e-13, 1.27893833e-11, 4.21959925e-08,\n",
       "        1.06911561e-04, 7.06185388e-11, 1.20902691e-13, 9.73073256e-05,\n",
       "        1.50021992e-03, 9.98295605e-01]], dtype=float32)"
      ]
     },
     "execution_count": 28,
     "metadata": {},
     "output_type": "execute_result"
    }
   ],
   "source": [
    "model.predict(X_test[:10])"
   ]
  },
  {
   "cell_type": "code",
   "execution_count": 29,
   "id": "c17c6031",
   "metadata": {},
   "outputs": [
    {
     "data": {
      "text/plain": [
       "array([[0., 0., 0., 0., 0., 0., 0., 1., 0., 0.],\n",
       "       [0., 0., 1., 0., 0., 0., 0., 0., 0., 0.],\n",
       "       [0., 1., 0., 0., 0., 0., 0., 0., 0., 0.],\n",
       "       [1., 0., 0., 0., 0., 0., 0., 0., 0., 0.],\n",
       "       [0., 0., 0., 0., 1., 0., 0., 0., 0., 0.],\n",
       "       [0., 1., 0., 0., 0., 0., 0., 0., 0., 0.],\n",
       "       [0., 0., 0., 0., 1., 0., 0., 0., 0., 0.],\n",
       "       [0., 0., 0., 0., 0., 0., 0., 0., 0., 1.],\n",
       "       [0., 0., 0., 0., 0., 1., 0., 0., 0., 0.],\n",
       "       [0., 0., 0., 0., 0., 0., 0., 0., 0., 1.]], dtype=float32)"
      ]
     },
     "execution_count": 29,
     "metadata": {},
     "output_type": "execute_result"
    }
   ],
   "source": [
    "y_test[:10]"
   ]
  },
  {
   "cell_type": "code",
   "execution_count": null,
   "id": "53af981e",
   "metadata": {},
   "outputs": [],
   "source": []
  }
 ],
 "metadata": {
  "kernelspec": {
   "display_name": "Python 3 (ipykernel)",
   "language": "python",
   "name": "python3"
  },
  "language_info": {
   "codemirror_mode": {
    "name": "ipython",
    "version": 3
   },
   "file_extension": ".py",
   "mimetype": "text/x-python",
   "name": "python",
   "nbconvert_exporter": "python",
   "pygments_lexer": "ipython3",
   "version": "3.9.12"
  }
 },
 "nbformat": 4,
 "nbformat_minor": 5
}
